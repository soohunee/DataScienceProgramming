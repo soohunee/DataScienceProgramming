{
 "cells": [
  {
   "cell_type": "code",
   "execution_count": 1,
   "id": "71ae589f",
   "metadata": {},
   "outputs": [],
   "source": [
    "import pandas as pd\n",
    "from sklearn.model_selection import train_test_split\n",
    "\n",
    "abalone = pd.read_csv(\"A6_datasets/abalone.csv\")\n",
    "concretecs = pd.read_csv(\"A6_datasets/concretecs.csv\")\n",
    "parkinsons = pd.read_csv(\"A6_datasets/parkinsons.csv\")\n",
    "skillcraft = pd.read_csv(\"A6_datasets/skillcraft.csv\")\n",
    "wine = pd.read_csv(\"A6_datasets/winequality-white.csv\")\n",
    "\n",
    "abalone_y = abalone.pop('rings')\n",
    "concretecs_y = concretecs.pop('Concrete compressive strength')\n",
    "parkinsons_y = parkinsons.pop('total_UPDRS')\n",
    "skillcraft_y = skillcraft.pop('ComplexAbilitiesUsed')\n",
    "wine_y = wine.pop('quality')\n",
    "\n",
    "abalone_trainval, abalone_test, abalone_y_trainval, abalone_y_test = train_test_split(abalone, abalone_y, train_size = 500, random_state = 1016)\n",
    "concretecs_trainval, concretecs_test, concretecs_y_trainval, concretecs_y_test = train_test_split(concretecs, concretecs_y, train_size = 500, random_state = 1016)\n",
    "parkinsons_trainval, parkinsons_test, parkinsons_y_trainval, parkinsons_y_test = train_test_split(parkinsons, parkinsons_y, train_size = 500, random_state = 1016)\n",
    "skillcraft_trainval, skillcraft_test, skillcraft_y_trainval, skillcraft_y_test = train_test_split(skillcraft, skillcraft_y, train_size = 500, random_state = 1016)\n",
    "wine_trainval, wine_test, wine_y_trainval, wine_y_test = train_test_split(wine, wine_y, train_size = 500, random_state = 1016)"
   ]
  },
  {
   "cell_type": "code",
   "execution_count": 2,
   "id": "6e41f32b",
   "metadata": {},
   "outputs": [],
   "source": [
    "import warnings\n",
    "warnings.filterwarnings(action='ignore')"
   ]
  },
  {
   "cell_type": "code",
   "execution_count": 3,
   "id": "e028d0a8",
   "metadata": {},
   "outputs": [],
   "source": [
    "from sklearn.pipeline import Pipeline\n",
    "from sklearn.model_selection import StratifiedKFold, GridSearchCV, KFold\n",
    "from sklearn.metrics import mean_squared_error\n",
    "from sklearn.preprocessing import StandardScaler, MinMaxScaler\n",
    "from sklearn.linear_model import LinearRegression\n",
    "from sklearn.linear_model import Ridge\n",
    "from sklearn.linear_model import Lasso\n",
    "from sklearn.ensemble import RandomForestRegressor\n",
    "from sklearn.svm import SVR\n",
    "from sklearn.neural_network import MLPRegressor"
   ]
  },
  {
   "cell_type": "code",
   "execution_count": 4,
   "id": "b02aff9f",
   "metadata": {},
   "outputs": [],
   "source": [
    "pipe = Pipeline([('preprocessing', None), ('regressor', LinearRegression())])\n",
    "hyperparam_grid = [\n",
    "    {'regressor' : [LinearRegression()], 'preprocessing' : [StandardScaler(), MinMaxScaler(), None]},\n",
    "    {'regressor' : [Ridge()], 'preprocessing' : [StandardScaler(), MinMaxScaler(), None],\n",
    "    'regressor__alpha' : [0, 0.01, 1, 10, 100]},\n",
    "    {'regressor' : [Lasso()], 'preprocessing' : [StandardScaler(), MinMaxScaler(), None],\n",
    "    'regressor__alpha' : [0.0001, 0.001, 0.01, 0.1, 1, 10], 'regressor__tol':[0.00001, 0.0001,0.001]},\n",
    "    {'regressor' : [RandomForestRegressor()], 'preprocessing' : [None],\n",
    "    'regressor__max_features' : ['auto', 'sqrt', 'log2']},\n",
    "    {'regressor' : [SVR()], 'preprocessing' : [StandardScaler(), MinMaxScaler(), None],\n",
    "    'regressor__epsilon' : [0.001, 0.01, 0.1], 'regressor__gamma' : [0.01, 0.1], 'regressor__C': [1, 100]},\n",
    "    {'regressor' : [MLPRegressor()], 'preprocessing' : [StandardScaler(), MinMaxScaler(), None],\n",
    "    'regressor__max_iter' : [5000,10000], 'regressor__activation' : ['tanh', 'relu'],\n",
    "    'regressor__solver' : ['lbfgs', 'sgd', 'adam'], 'regressor__hidden_layer_sizes': [(10,),(20,),(50,),(100,)]}]"
   ]
  },
  {
   "cell_type": "code",
   "execution_count": null,
   "id": "d5f5f5e9",
   "metadata": {},
   "outputs": [
    {
     "name": "stdout",
     "output_type": "stream",
     "text": [
      "best hyperparam : \n",
      "{'preprocessing': None, 'regressor': MLPRegressor(max_iter=5000), 'regressor__activation': 'relu', 'regressor__hidden_layer_sizes': (100,), 'regressor__max_iter': 5000, 'regressor__solver': 'adam'}\n",
      "best cross-validation score : 5.10\n",
      "test-set score : 4.67\n",
      "best hyperparam : \n",
      "{'preprocessing': StandardScaler(), 'regressor': MLPRegressor(max_iter=5000), 'regressor__activation': 'relu', 'regressor__hidden_layer_sizes': (100,), 'regressor__max_iter': 5000, 'regressor__solver': 'adam'}\n",
      "best cross-validation score : 32.53\n",
      "test-set score : 38.73\n"
     ]
    }
   ],
   "source": [
    "kfold = KFold(5, shuffle=True, random_state=1016)\n",
    "grid = GridSearchCV(pipe, hyperparam_grid, scoring='neg_mean_squared_error', refit=True, cv = kfold)\n",
    "\n",
    "data = [[abalone_trainval,abalone_y_trainval,abalone_test,abalone_y_test],\n",
    "        [concretecs_trainval,concretecs_y_trainval,concretecs_test,concretecs_y_test],\n",
    "        [parkinsons_trainval,parkinsons_y_trainval,parkinsons_test,parkinsons_y_test],\n",
    "        [skillcraft_trainval,skillcraft_y_trainval,skillcraft_test,skillcraft_y_test],\n",
    "        [wine_trainval,wine_y_trainval,wine_test,wine_y_test],]\n",
    "\n",
    "for i in data:\n",
    "    grid.fit(i[0], i[1])\n",
    "    print(\"best hyperparam : \\n{}\".format(grid.best_params_))\n",
    "    print(\"best cross-validation score : {:.2f}\".format(-grid.best_score_))\n",
    "    print(\"test-set score : {:.2f}\".format(-grid.score(i[2], i[3])))"
   ]
  }
 ],
 "metadata": {
  "kernelspec": {
   "display_name": "Python 3",
   "language": "python",
   "name": "python3"
  },
  "language_info": {
   "codemirror_mode": {
    "name": "ipython",
    "version": 3
   },
   "file_extension": ".py",
   "mimetype": "text/x-python",
   "name": "python",
   "nbconvert_exporter": "python",
   "pygments_lexer": "ipython3",
   "version": "3.8.8"
  }
 },
 "nbformat": 4,
 "nbformat_minor": 5
}
